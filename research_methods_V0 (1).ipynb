{
  "nbformat": 4,
  "nbformat_minor": 0,
  "metadata": {
    "colab": {
      "provenance": []
    },
    "kernelspec": {
      "name": "python3",
      "display_name": "Python 3"
    },
    "language_info": {
      "name": "python"
    }
  },
  "cells": [
    {
      "cell_type": "code",
      "source": [
        "from sklearn.ensemble import AdaBoostClassifier\n",
        "from sklearn.exceptions import DataConversionWarning\n",
        "import warnings\n",
        "\n",
        "# Assuming X is your feature matrix and y is your target variable\n",
        "# Make sure X contains missing values\n",
        "\n",
        "# Disable DataConversionWarning related to missing data\n",
        "warnings.filterwarnings(\"ignore\", category=DataConversionWarning)\n",
        "\n",
        "# Re-enable warnings for the rest of the code\n",
        "warnings.filterwarnings(\"default\", category=DataConversionWarning)\n"
      ],
      "metadata": {
        "id": "wqrPYhSYXm19"
      },
      "execution_count": 1,
      "outputs": []
    },
    {
      "cell_type": "code",
      "source": [
        "import numpy as np\n",
        "from sklearn.model_selection import train_test_split\n",
        "\n",
        "\n",
        "def bootstrap_sample(X, Y, sample_size=0.8, random_seed=None):\n",
        "    \"\"\"\n",
        "    Function that creates a random sample from the given dataset.\n",
        "\n",
        "    Parameters:\n",
        "    - X: Features\n",
        "    - Y: Labels\n",
        "    - sample_size: Size of the sample to be created\n",
        "    - random_seed: Seed for random number generation (optional)\n",
        "\n",
        "    Returns:\n",
        "    - X_sample: Random sample of features\n",
        "    - Y_sample: Corresponding random sample of labels\n",
        "    \"\"\"\n",
        "    subsample_X, _, subsample_Y, _ = train_test_split(X, Y, train_size=sample_size, random_state=random_seed)\n",
        "\n",
        "    return subsample_X, subsample_Y\n"
      ],
      "metadata": {
        "id": "Jt2I08k9Rhis"
      },
      "execution_count": 2,
      "outputs": []
    },
    {
      "cell_type": "markdown",
      "source": [
        "# DecisionTreeImputerClassifier\n",
        "This code defines a custom machine learning classifier, DecisionTreeImputerClassifier, using scikit-learn. It combines a decision tree classifier with iterative imputation for handling missing data. The fit method performs bootstrap sampling (if enabled - will be usful in the random forest phase), imputes missing values, and then trains the decision tree classifier. The predict and predict_proba methods use the trained model to make predictions on new data after imputing missing values. This design aims to enhance the model's robustness in handling incomplete datasets."
      ],
      "metadata": {
        "id": "ej8PBFM_b7KZ"
      }
    },
    {
      "cell_type": "code",
      "execution_count": 3,
      "metadata": {
        "id": "ZnkHJ_CkRSzs"
      },
      "outputs": [],
      "source": [
        "from sklearn.base import BaseEstimator, ClassifierMixin\n",
        "from sklearn.tree import DecisionTreeClassifier\n",
        "\n",
        "from sklearn.experimental import enable_iterative_imputer\n",
        "from sklearn.impute import IterativeImputer as mice\n",
        "from sklearn.impute import KNNImputer, SimpleImputer\n",
        "from sklearn.exceptions import ConvergenceWarning\n",
        "import warnings\n",
        "\n",
        "warnings.filterwarnings(\"ignore\", category=ConvergenceWarning)\n",
        "\n",
        "class DecisionTreeImputerClassifier(BaseEstimator, ClassifierMixin):\n",
        "    def __init__(self, random_state=42, bootstrap=False):\n",
        "        self.tree = DecisionTreeClassifier(random_state=random_state)\n",
        "        self.bootstrap = bootstrap\n",
        "        self.random_state = random_state\n",
        "\n",
        "    def fit(self, X, y, sample_weight=None, check_input=True) -> None:\n",
        "        if self.bootstrap:\n",
        "            X, y = bootstrap_sample(X, y)\n",
        "        X = self.imputer.fit_transform(X)\n",
        "        self.tree.fit(X, y, sample_weight=sample_weight, check_input=check_input)\n",
        "\n",
        "    def predict(self, X, check_input=True):\n",
        "        X = self.imputer.transform(X)\n",
        "        return self.tree.predict(X, check_input=check_input)\n",
        "\n",
        "    def predict_proba(self, X, check_input=True):\n",
        "        X = self.imputer.transform(X)\n",
        "        return self.tree.predict_proba(X, check_input=check_input)\n",
        "\n",
        "class DecisionTreeMICEImputerClassifier(DecisionTreeImputerClassifier):\n",
        "    def __init__(self, random_state=42, bootstrap=False):\n",
        "        super().__init__(random_state=random_state, bootstrap=bootstrap)\n",
        "        self.imputer = mice()\n",
        "\n",
        "class DecisionTreeKNNImputerClassifier(DecisionTreeImputerClassifier):\n",
        "    def __init__(self, random_state=42, bootstrap=False):\n",
        "        super().__init__(random_state=random_state, bootstrap=bootstrap)\n",
        "        self.imputer = KNNImputer()\n",
        "\n",
        "class DecisionTreeSIMPLEImputerClassifier(DecisionTreeImputerClassifier):\n",
        "    def __init__(self, random_state=42, bootstrap=False):\n",
        "        super().__init__(random_state=random_state, bootstrap=bootstrap)\n",
        "        self.imputer = SimpleImputer()"
      ]
    },
    {
      "cell_type": "markdown",
      "source": [
        "\n",
        "# BoostImputeRandomForestClassifier\n",
        "This code defines a custom ensemble classifier named BoostImputeRandomForestClassifier. It combines the XGBoost classifier with a custom decision tree imputer, DecisionTreeImputerClassifier, designed to handle missing data. The ensemble is trained on the input data X and labels y. It utilizes XGBoost with multiple decision trees (controlled by n_estimators) where each tree internally uses the custom imputer. The predict and predict_proba methods make predictions using the trained ensemble. This approach aims to boost the model's performance by leveraging both ensemble learning and imputation strategies for handling incomplete datasets."
      ],
      "metadata": {
        "id": "jXZmd8TccY27"
      }
    },
    {
      "cell_type": "code",
      "source": [
        "import numpy as np\n",
        "from sklearn.base import BaseEstimator, ClassifierMixin\n",
        "import xgboost as xgb\n",
        "\n",
        "from sklearn.experimental import enable_iterative_imputer\n",
        "from sklearn.impute import IterativeImputer as mice\n",
        "from sklearn.pipeline import make_pipeline\n",
        "from sklearn.exceptions import ConvergenceWarning\n",
        "import warnings\n",
        "from sklearn.ensemble import VotingClassifier, AdaBoostClassifier\n",
        "\n",
        "warnings.filterwarnings(\"ignore\", category=ConvergenceWarning)\n",
        "\n",
        "\n",
        "class BoostImputeRandomForestClassifier(BaseEstimator, ClassifierMixin):\n",
        "    def __init__(self, n_estimators=5, criterion='gini', random_state=42):\n",
        "        self.forest = None\n",
        "        self.n_estimators = n_estimators\n",
        "        self.criterion = criterion\n",
        "        self.random_state = random_state\n",
        "\n",
        "    def fit_XGB_MICE(self, X, y) -> None:\n",
        "        imputer = DecisionTreeMICEImputerClassifier(bootstrap=True).imputer\n",
        "        imputed_X = imputer.fit_transform(X)\n",
        "        self.forest = xgb.XGBClassifier(n_estimators=self.n_estimators, random_state=42)\n",
        "        self.forest.fit(imputed_X, y)\n",
        "\n",
        "    def fit_VOT_MICE(self, X, y) -> None:\n",
        "        classifiers = [('MICE', DecisionTreeMICEImputerClassifier(bootstrap=True))]\n",
        "        self.forest = VotingClassifier(estimators=classifiers, voting='soft')\n",
        "        self.forest.fit(X, y)\n",
        "\n",
        "\n",
        "    def fit_XGB_KNN(self, X, y) -> None:\n",
        "        imputer = DecisionTreeKNNImputerClassifier(bootstrap=True).imputer\n",
        "        imputed_X = imputer.fit_transform(X)\n",
        "        self.forest = xgb.XGBClassifier(n_estimators=self.n_estimators, random_state=42)\n",
        "        self.forest.fit(imputed_X, y)\n",
        "\n",
        "    def fit_VOT_KNN(self, X, y) -> None:\n",
        "        classifiers = [('KNN', DecisionTreeKNNImputerClassifier(bootstrap=True))]\n",
        "        self.forest = VotingClassifier(estimators=classifiers, voting='soft')\n",
        "        self.forest.fit(X, y)\n",
        "\n",
        "    def fit_XGB_SIMPLE(self, X, y) -> None:\n",
        "        imputer = DecisionTreeSIMPLEImputerClassifier(bootstrap=True).imputer\n",
        "        imputed_X = imputer.fit_transform(X)\n",
        "        self.forest = xgb.XGBClassifier(n_estimators=self.n_estimators, random_state=42)\n",
        "        self.forest.fit(imputed_X, y)\n",
        "\n",
        "    def fit_VOT_SIMPLE(self, X, y) -> None:\n",
        "        classifiers = [('SIMPLE', DecisionTreeSIMPLEImputerClassifier(bootstrap=True))]\n",
        "        self.forest = VotingClassifier(estimators=classifiers, voting='soft')\n",
        "        self.forest.fit(X, y)\n",
        "\n",
        "\n",
        "    def fit_ADA_MICE(self, X, y) -> None:\n",
        "        DecisionTreeMICEImputerClassifier_ = DecisionTreeMICEImputerClassifier(bootstrap=True)\n",
        "        imputed_X = DecisionTreeMICEImputerClassifier_.imputer.fit_transform(X)\n",
        "        base_classifier = DecisionTreeMICEImputerClassifier_.tree\n",
        "        self.forest = AdaBoostClassifier(base_classifier, random_state=42)\n",
        "        self.forest.fit(imputed_X, y)\n",
        "\n",
        "\n",
        "    def fit_ADA_KNN(self, X, y) -> None:\n",
        "        DecisionTreeKNNImputerClassifier_ = DecisionTreeKNNImputerClassifier(bootstrap=True)\n",
        "        imputed_X = DecisionTreeKNNImputerClassifier_.imputer.fit_transform(X)\n",
        "        base_classifier = DecisionTreeKNNImputerClassifier_.tree\n",
        "        self.forest = AdaBoostClassifier(base_classifier, random_state=42)\n",
        "        self.forest.fit(imputed_X, y)\n",
        "\n",
        "\n",
        "    def fit_ADA_SIMPLE(self, X, y) -> None:\n",
        "        DecisionTreeSIMPLEImputerClassifier_ = DecisionTreeSIMPLEImputerClassifier(bootstrap=True)\n",
        "        imputed_X = DecisionTreeSIMPLEImputerClassifier_.imputer.fit_transform(X)\n",
        "        base_classifier = DecisionTreeSIMPLEImputerClassifier_.tree\n",
        "        self.forest = AdaBoostClassifier(base_classifier, random_state=42)\n",
        "        self.forest.fit(imputed_X, y)\n",
        "\n",
        "\n",
        "\n",
        "\n",
        "    def predict(self, X, check_input=True):\n",
        "        return self.forest.predict(X, check_input=check_input)\n",
        "\n",
        "    def predict_proba(self, X):\n",
        "        return self.forest.predict_proba(X)\n"
      ],
      "metadata": {
        "id": "k7w_KcqDRgx6"
      },
      "execution_count": 4,
      "outputs": []
    },
    {
      "cell_type": "markdown",
      "source": [
        "# Task 1: Experimental Setup Overview\n",
        "In this phase, we are setting up a comprehensive experiment to evaluate three different models on the Kaggle Corona dataset. The models under consideration are :\n",
        ",\n",
        "\n",
        "*   a custom ensemble classifier (BoostImputeRandomForestClassifier)\n",
        "*   a standard XGBoost classifier\n",
        "*   simple random forest with missing data imputed using two techniques:\n",
        "    1.   k-nearest neighbors (KNN)\n",
        "    2.   mean imputation\n",
        "\n",
        "Each of those can be pipline, cell ot well writed process - as you like"
      ],
      "metadata": {
        "id": "aRPK1maWdfbc"
      }
    },
    {
      "cell_type": "markdown",
      "source": [
        "here is an example of how i did the part of BoostImputeRandomForestClassifier for 1 expriment, mow i need to do 9 more time with diffrents splits of train and test.\n",
        "from here - we need to complete the other methods as well so we can compare."
      ],
      "metadata": {
        "id": "9YMM6eGrjB4U"
      }
    },
    {
      "cell_type": "code",
      "source": [
        "import numpy as np\n",
        "from sklearn.datasets import load_breast_cancer\n",
        "from sklearn.model_selection import train_test_split\n",
        "from sklearn.metrics import roc_auc_score\n",
        "import matplotlib.pyplot as plt\n",
        "import pandas as pd\n",
        "\n",
        "# Function to introduce NaN values randomly in a DataFrame\n",
        "def introduce_nan(data, nan_fraction):\n",
        "    nan_mask = np.random.rand(*data.shape) < nan_fraction\n",
        "    data_with_nan = data.copy()\n",
        "    data_with_nan[nan_mask] = np.nan\n",
        "    return data_with_nan\n",
        "\n",
        "\n",
        "# Load the breast cancer dataset\n",
        "data = pd.read_csv(\"/content/corona.csv\")\n",
        "data['Linfociti'] = data['Linfociti'].astype('float64')\n",
        "data['SESSO'] = data['SESSO'].astype('string')\n",
        "X = data.drop(['TARGET','SESSO'], axis=1)\n",
        "y = data['TARGET']\n",
        "data\n",
        "\n",
        "roc_auc_scores = []\n",
        "# for _ in range(10):\n",
        "# Split the dataset into training and testing sets\n",
        "X_train, X_test, y_train, y_test = train_test_split(X, y, test_size=0.2, random_state=42)\n",
        "classifier = BoostImputeRandomForestClassifier()\n",
        "\n",
        "# Train the classifier on the training set\n",
        "classifier.fit_ADA_MICE(X_train, y_train)\n",
        "imputer=mice()\n",
        "X_test_=imputer.fit_transform(X_test)\n",
        "# Predict the probabilities on the test set\n",
        "y_probs = classifier.predict_proba(X_test_)[:, 1]\n",
        "\n",
        "# Calculate the AUC score\n",
        "auc_score = roc_auc_score(y_test, y_probs)\n",
        "print(auc_score)\n",
        "roc_auc_scores.append(auc_score)"
      ],
      "metadata": {
        "colab": {
          "base_uri": "https://localhost:8080/"
        },
        "id": "xzTklsjBSAA2",
        "outputId": "7bffb807-a152-430a-da43-f8cc2d82be2f"
      },
      "execution_count": 5,
      "outputs": [
        {
          "output_type": "stream",
          "name": "stdout",
          "text": [
            "0.6523809523809525\n"
          ]
        }
      ]
    },
    {
      "cell_type": "markdown",
      "source": [
        "# Task 2: Models Training and Evaluation\n",
        "The next step involves training and evaluating the models on the original dataset. This phase aims to establish baseline performance for each model before any imputation strategy is applied.\n",
        "for set the ground for all of use - lets go with 80-20 ratio of train test split in each exporimnet.\n",
        "we need to run each on the \"fit-predict\" phase 10 times so we can compare it well with the hypothesis testing in the next phase.\n",
        "We will record the ROC-AUC scores for comparison in later stages."
      ],
      "metadata": {
        "id": "JclVAaoieXb3"
      }
    },
    {
      "cell_type": "code",
      "source": [
        "roc_auc_scores_mice_xgb = []\n",
        "roc_auc_scores_knn_xgb = []\n",
        "roc_auc_scores_simple_xgb = []\n",
        "roc_auc_scores_mice_vot = []\n",
        "roc_auc_scores_knn_vot = []\n",
        "roc_auc_scores_simple_vot = []\n",
        "roc_auc_scores_mice_ada = []\n",
        "roc_auc_scores_knn_ada = []\n",
        "roc_auc_scores_simple_ada = []\n",
        "roc_auc_scores_benchmark = []\n",
        "splits=[]\n",
        "for i in range(10):\n",
        "    random_state = 42 + i\n",
        "    X_train, X_test, y_train, y_test = train_test_split(X, y, test_size=0.2, random_state=random_state)\n",
        "    splits.append((X_train, X_test, y_train, y_test))\n",
        "\n",
        "for (X_train_, X_test_, y_train_, y_test_) in splits :\n",
        "   X_train, X_test, y_train, y_test =X_train_, X_test_, y_train_, y_test_\n",
        "   classifier = BoostImputeRandomForestClassifier()\n",
        "   classifier.fit_XGB_MICE(X_train, y_train)\n",
        "   y_probs = classifier.predict_proba(X_test)[:, 1]\n",
        "   auc_score = roc_auc_score(y_test, y_probs)\n",
        "   roc_auc_scores_mice_xgb.append(auc_score)\n",
        "\n",
        "\n",
        "for (X_train_, X_test_, y_train_, y_test_) in splits :\n",
        "   X_train, X_test, y_train, y_test =X_train_, X_test_, y_train_, y_test_\n",
        "   classifier = BoostImputeRandomForestClassifier()\n",
        "   classifier.fit_XGB_KNN(X_train, y_train)\n",
        "   y_probs = classifier.predict_proba(X_test)[:, 1]\n",
        "   auc_score = roc_auc_score(y_test, y_probs)\n",
        "   roc_auc_scores_knn_xgb.append(auc_score)\n",
        "\n",
        "\n",
        "for (X_train_, X_test_, y_train_, y_test_) in splits :\n",
        "   X_train, X_test, y_train, y_test =X_train_, X_test_, y_train_, y_test_\n",
        "   classifier = BoostImputeRandomForestClassifier()\n",
        "   classifier.fit_XGB_SIMPLE(X_train, y_train)\n",
        "   y_probs = classifier.predict_proba(X_test)[:, 1]\n",
        "   auc_score = roc_auc_score(y_test, y_probs)\n",
        "   roc_auc_scores_simple_xgb.append(auc_score)\n",
        "\n",
        "\n",
        "for (X_train_, X_test_, y_train_, y_test_) in splits :\n",
        "   X_train, X_test, y_train, y_test =X_train_, X_test_, y_train_, y_test_\n",
        "   classifier = BoostImputeRandomForestClassifier()\n",
        "   classifier.fit_VOT_MICE(X_train, y_train)\n",
        "   y_probs = classifier.predict_proba(X_test)[:, 1]\n",
        "   auc_score = roc_auc_score(y_test, y_probs)\n",
        "   roc_auc_scores_mice_vot.append(auc_score)\n",
        "\n",
        "\n",
        "for (X_train_, X_test_, y_train_, y_test_) in splits :\n",
        "   X_train, X_test, y_train, y_test =X_train_, X_test_, y_train_, y_test_\n",
        "   classifier = BoostImputeRandomForestClassifier()\n",
        "   classifier.fit_VOT_KNN(X_train, y_train)\n",
        "   y_probs = classifier.predict_proba(X_test)[:, 1]\n",
        "   auc_score = roc_auc_score(y_test, y_probs)\n",
        "   roc_auc_scores_knn_vot.append(auc_score)\n",
        "\n",
        "\n",
        "for (X_train_, X_test_, y_train_, y_test_) in splits :\n",
        "   X_train, X_test, y_train, y_test =X_train_, X_test_, y_train_, y_test_\n",
        "   classifier = BoostImputeRandomForestClassifier()\n",
        "   classifier.fit_VOT_SIMPLE(X_train, y_train)\n",
        "   y_probs = classifier.predict_proba(X_test)[:, 1]\n",
        "   auc_score = roc_auc_score(y_test, y_probs)\n",
        "   roc_auc_scores_simple_vot.append(auc_score)\n",
        "\n",
        "for (X_train_, X_test_, y_train_, y_test_) in splits :\n",
        "   X_train, X_test, y_train, y_test =X_train_, X_test_, y_train_, y_test_\n",
        "   classifier = BoostImputeRandomForestClassifier()\n",
        "   classifier.fit_ADA_MICE(X_train, y_train)\n",
        "   imputer=mice()\n",
        "   X_test_=imputer.fit_transform(X_test)\n",
        "   y_probs = classifier.predict_proba(X_test_)[:, 1]\n",
        "   auc_score = roc_auc_score(y_test, y_probs)\n",
        "   roc_auc_scores_mice_ada.append(auc_score)\n",
        "\n",
        "for (X_train_, X_test_, y_train_, y_test_) in splits :\n",
        "   X_train, X_test, y_train, y_test =X_train_, X_test_, y_train_, y_test_\n",
        "   classifier = BoostImputeRandomForestClassifier()\n",
        "   classifier.fit_ADA_KNN(X_train, y_train)\n",
        "   imputer=KNNImputer()\n",
        "   X_test_=imputer.fit_transform(X_test)\n",
        "   y_probs = classifier.predict_proba(X_test_)[:, 1]\n",
        "   auc_score = roc_auc_score(y_test, y_probs)\n",
        "   roc_auc_scores_knn_ada.append(auc_score)\n",
        "\n",
        "\n",
        "for (X_train_, X_test_, y_train_, y_test_) in splits :\n",
        "   X_train, X_test, y_train, y_test =X_train_, X_test_, y_train_, y_test_\n",
        "   classifier = BoostImputeRandomForestClassifier()\n",
        "   classifier.fit_ADA_SIMPLE(X_train, y_train)\n",
        "   imputer=SimpleImputer()\n",
        "   X_test_=imputer.fit_transform(X_test)\n",
        "   y_probs = classifier.predict_proba(X_test_)[:, 1]\n",
        "   auc_score = roc_auc_score(y_test, y_probs)\n",
        "   roc_auc_scores_simple_ada.append(auc_score)\n",
        "\n",
        "for (X_train_, X_test_, y_train_, y_test_) in splits :\n",
        "   X_train, X_test, y_train, y_test =X_train_, X_test_, y_train_, y_test_\n",
        "   classifier = xgb.XGBClassifier(n_estimators=5, random_state=42)\n",
        "   classifier.fit(X_train, y_train)\n",
        "   y_probs = classifier.predict_proba(X_test_)[:, 1]\n",
        "   auc_score = roc_auc_score(y_test, y_probs)\n",
        "   roc_auc_scores_benchmark.append(auc_score)\n",
        "\n",
        "roc_auc_scores_mice_xgb_avg = np.mean(roc_auc_scores_mice_xgb)\n",
        "roc_auc_scores_knn_xgb_avg = np.mean(roc_auc_scores_knn_xgb)\n",
        "roc_auc_scores_simple_xgb_avg = np.mean(roc_auc_scores_simple_xgb)\n",
        "roc_auc_scores_mice_vot_avg = np.mean(roc_auc_scores_mice_vot)\n",
        "roc_auc_scores_knn_vot_avg = np.mean(roc_auc_scores_knn_vot)\n",
        "roc_auc_scores_simple_vot_avg = np.mean(roc_auc_scores_simple_vot)\n",
        "roc_auc_scores_mice_ada_avg = np.mean(roc_auc_scores_mice_ada)\n",
        "roc_auc_scores_knn_ada_avg = np.mean(roc_auc_scores_knn_ada)\n",
        "roc_auc_scores_simple_ada_avg = np.mean(roc_auc_scores_simple_ada)\n",
        "roc_auc_scores_benchmark = np.mean(roc_auc_scores_benchmark)\n",
        "\n"
      ],
      "metadata": {
        "id": "4HPG-p3-emRG"
      },
      "execution_count": 21,
      "outputs": []
    },
    {
      "cell_type": "code",
      "source": [
        "import numpy as np\n",
        "import matplotlib.pyplot as plt\n",
        "\n",
        "methods = ['MICE-XGB', 'KNN-XGB', 'Simple-XGB', 'MICE-VOT', 'KNN-VOT', 'Simple-VOT', 'MICE-ADA', 'KNN-ADA', 'Simple-ADA', 'XGB-benchmark']\n",
        "average_roc_auc_scores = [roc_auc_scores_mice_xgb_avg, roc_auc_scores_knn_xgb_avg, roc_auc_scores_simple_xgb_avg,\n",
        "                           roc_auc_scores_mice_vot_avg, roc_auc_scores_knn_vot_avg, roc_auc_scores_simple_vot_avg,\n",
        "                           roc_auc_scores_mice_ada_avg, roc_auc_scores_knn_ada_avg, roc_auc_scores_simple_ada_avg, roc_auc_scores_benchmark]\n",
        "\n",
        "colors = ['skyblue', 'orange', 'green', 'pink', 'purple', 'brown', 'red', 'cyan', 'yellow', 'grey']\n",
        "\n",
        "plt.figure(figsize=(16, 7))\n",
        "bars = plt.bar(methods, average_roc_auc_scores, color=colors)\n",
        "\n",
        "for bar, score in zip(bars, average_roc_auc_scores):\n",
        "    plt.text(bar.get_x() + bar.get_width() / 2, bar.get_height() + 0.02, f'{score:.3f}', ha='center', va='bottom')\n",
        "\n",
        "plt.title('Average ROC-AUC Scores for Different Methods')\n",
        "plt.xlabel('Methods')\n",
        "plt.ylabel('Average ROC-AUC Score')\n",
        "plt.ylim([0, 1])\n",
        "plt.show()\n"
      ],
      "metadata": {
        "colab": {
          "base_uri": "https://localhost:8080/",
          "height": 641
        },
        "id": "Gejwi91BYiaJ",
        "outputId": "67833ff1-2e05-4673-8727-cee461732c27"
      },
      "execution_count": 22,
      "outputs": [
        {
          "output_type": "display_data",
          "data": {
            "text/plain": [
              "<Figure size 1600x700 with 1 Axes>"
            ],
            "image/png": "[encoded data removed]"
          },
          "metadata": {}
        }
      ]
    },
    {
      "cell_type": "markdown",
      "source": [
        "# Task 3: Bootstrap Hypothesis Testing\n",
        "To determine the statistical significance of our results, we employ bootstrap hypothesis testing. This resampling technique allows us to compare the distributions of ROC-AUC scores for each model and assess whether any observed differences are statistically significant."
      ],
      "metadata": {
        "id": "EBsINPUVemnX"
      }
    },
    {
      "cell_type": "code",
      "source": [
        "from sklearn.utils import resample\n",
        "\n",
        "\n",
        "all_scores = [roc_auc_scores_mice_xgb, roc_auc_scores_knn_xgb, roc_auc_scores_simple_xgb,\n",
        "              roc_auc_scores_mice_vot, roc_auc_scores_knn_vot, roc_auc_scores_simple_vot,\n",
        "              roc_auc_scores_mice_ada, roc_auc_scores_knn_ada, roc_auc_scores_simple_ada, roc_auc_scores_benchmark]\n",
        "\n",
        "p_values = np.zeros((9, 9))\n",
        "n_iterations = 100\n",
        "for i in range(9):\n",
        "    for j in range(9):\n",
        "        if i != j:\n",
        "            observed_mean_diff = np.mean(all_scores[i]) - np.mean(all_scores[j])\n",
        "            bootstrap_mean_diffs = []\n",
        "\n",
        "            for _ in range(n_iterations):\n",
        "                resampled_scores_i = resample(all_scores[i])\n",
        "                resampled_scores_j = resample(all_scores[j])\n",
        "                bootstrap_mean_diff = np.mean(resampled_scores_i) - np.mean(resampled_scores_j)\n",
        "                bootstrap_mean_diffs.append(bootstrap_mean_diff)\n",
        "            p_value = (np.abs(bootstrap_mean_diffs) >= np.abs(observed_mean_diff)).mean()\n",
        "            p_values[i, j] = p_value\n",
        "print(\"p-values matrix:\")\n",
        "print(p_values)\n",
        "\n",
        "significance_level = 0.05\n",
        "significant_pairs = np.argwhere(p_values < significance_level)\n",
        "\n",
        "for pair in significant_pairs:\n",
        "    model_i, model_j = pair\n",
        "    if(model_i!= model_j):\n",
        "       print(f\"Reject the null hypothesis for models {model_i} and {model_j}. There is a significant difference.\")\n"
      ],
      "metadata": {
        "id": "nkv_mlrxgS7A",
        "colab": {
          "base_uri": "https://localhost:8080/"
        },
        "outputId": "ec1abf35-fff7-4326-9172-3d2d6af6211a"
      },
      "execution_count": 25,
      "outputs": [
        {
          "output_type": "stream",
          "name": "stdout",
          "text": [
            "p-values matrix:\n",
            "[[0.   0.6  0.64 0.52 0.43 0.51 0.43 0.48 0.57]\n",
            " [0.52 0.   0.86 0.47 0.49 0.6  0.56 0.57 0.45]\n",
            " [0.68 0.9  0.   0.54 0.44 0.52 0.54 0.5  0.46]\n",
            " [0.51 0.44 0.37 0.   0.63 0.78 0.99 0.78 0.58]\n",
            " [0.51 0.4  0.45 0.6  0.   0.56 0.6  0.82 0.48]\n",
            " [0.46 0.5  0.55 0.74 0.55 0.   0.75 0.62 0.42]\n",
            " [0.5  0.54 0.65 1.   0.69 0.73 0.   0.86 0.6 ]\n",
            " [0.45 0.52 0.49 0.87 0.81 0.72 0.88 0.   0.54]\n",
            " [0.5  0.52 0.47 0.51 0.48 0.59 0.51 0.47 0.  ]]\n"
          ]
        }
      ]
    },
    {
      "cell_type": "code",
      "source": [],
      "metadata": {
        "id": "s6oMzvwA4DXH"
      },
      "execution_count": null,
      "outputs": []
    }
  ]
}